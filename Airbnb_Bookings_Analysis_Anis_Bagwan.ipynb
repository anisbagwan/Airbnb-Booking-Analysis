{
  "nbformat": 4,
  "nbformat_minor": 0,
  "metadata": {
    "kernelspec": {
      "display_name": "Python 3",
      "language": "python",
      "name": "python3"
    },
    "language_info": {
      "codemirror_mode": {
        "name": "ipython",
        "version": 3
      },
      "file_extension": ".py",
      "mimetype": "text/x-python",
      "name": "python",
      "nbconvert_exporter": "python",
      "pygments_lexer": "ipython3",
      "version": "3.6.6"
    },
    "colab": {
      "name": "Airbnb Bookings Analysis - Anis Bagwan.ipynb",
      "provenance": [],
      "collapsed_sections": [
        "0-WmIhr3pU15"
      ],
      "include_colab_link": true
    }
  },
  "cells": [
    {
      "cell_type": "markdown",
      "metadata": {
        "id": "view-in-github",
        "colab_type": "text"
      },
      "source": [
        "<a href=\"https://colab.research.google.com/github/anisbagwan/airbnb-booking-analysis/blob/main/Airbnb_Bookings_Analysis_Anis_Bagwan.ipynb\" target=\"_parent\"><img src=\"https://colab.research.google.com/assets/colab-badge.svg\" alt=\"Open In Colab\"/></a>"
      ]
    },
    {
      "cell_type": "markdown",
      "metadata": {
        "id": "Y06xIdG26kRF"
      },
      "source": [
        "## <b> Since 2008, guests and hosts have used Airbnb to expand on traveling possibilities and present a more unique, personalized way of experiencing the world. Today, Airbnb became one of a kind service that is used and recognized by the whole world. Data analysis on millions of listings provided through Airbnb is a crucial factor for the company. These millions of listings generate a lot of data - data that can be analyzed and used for security, business decisions, understanding of customers' and providers' (hosts) behavior and performance on the platform, guiding marketing initiatives, implementation of innovative additional services and much more. </b>\n",
        "\n",
        "## <b>This dataset has around 49,000 observations in it with 16 columns and it is a mix between categorical and numeric values. </b>\n",
        "\n",
        "## <b> Explore and analyze the data to discover key understandings (not limited to these) such as : \n",
        "* What can we learn about different hosts and areas?\n",
        "* What can we learn from predictions? (ex: locations, prices, reviews, etc)\n",
        "* Which hosts are the busiest and why?\n",
        "* Is there any noticeable difference of traffic among different areas and what could be the reason for it? </b>"
      ]
    },
    {
      "cell_type": "markdown",
      "metadata": {
        "id": "KngkcjsMctfh"
      },
      "source": [
        " cleaning (null values, unwanted columns) - unwanted columns- name,id, last_review, fill null values 0 in ``reviews_per_month``~  \n",
        "*   EDA\n",
        "-- number of host in different ``neighbourhood_group``~\n",
        "-- top 10 host with most number of apartment~\n",
        "-- top 10 host in different ``neighbourhood_group``~\n",
        "-- NUmber of  rooms listed in different ``neighbourhood_group``~\n",
        "-- Number of listed rooms ``category wise``~\n",
        "-- average pricing  according to apt category grouped  by neighbourhood group and apt category~\n",
        "-- preferable stay time according to room type\n",
        "-- Most number of reviews among top hosts\n"
      ]
    },
    {
      "cell_type": "code",
      "metadata": {
        "colab": {
          "base_uri": "https://localhost:8080/"
        },
        "id": "D32-qhzrWrmD",
        "outputId": "6f8c168e-13f0-48bf-d843-e4291e68634c"
      },
      "source": [
        "from google.colab import drive\n",
        "drive.mount('/content/drive')"
      ],
      "execution_count": null,
      "outputs": [
        {
          "output_type": "stream",
          "text": [
            "Mounted at /content/drive\n"
          ],
          "name": "stdout"
        }
      ]
    },
    {
      "cell_type": "code",
      "metadata": {
        "id": "ZIwpxR8wb4mK"
      },
      "source": [
        "\n",
        "import pandas as pd\n",
        "import numpy as np\n",
        "import matplotlib.pyplot as plt\n",
        "import seaborn as sns\n",
        "%matplotlib inline"
      ],
      "execution_count": null,
      "outputs": []
    },
    {
      "cell_type": "code",
      "metadata": {
        "id": "dByMsuzT8Tnw"
      },
      "source": [
        "file_path = '/content/drive/MyDrive/Copy of Airbnb NYC 2019.csv'\n",
        "df=pd.read_csv(file_path)"
      ],
      "execution_count": null,
      "outputs": []
    },
    {
      "cell_type": "markdown",
      "metadata": {
        "id": "0-WmIhr3pU15"
      },
      "source": [
        "# **Initial data check** "
      ]
    },
    {
      "cell_type": "markdown",
      "metadata": {
        "id": "FYN0uO1YpaM_"
      },
      "source": [
        "*   Displaying data frame. \n",
        "\n"
      ]
    },
    {
      "cell_type": "code",
      "metadata": {
        "colab": {
          "base_uri": "https://localhost:8080/",
          "height": 214
        },
        "id": "xk6qJUesb5s4",
        "outputId": "711dd2dd-fb80-488a-9855-cb620f48c099"
      },
      "source": [
        "df.head(1)"
      ],
      "execution_count": null,
      "outputs": [
        {
          "output_type": "execute_result",
          "data": {
            "text/html": [
              "<div>\n",
              "<style scoped>\n",
              "    .dataframe tbody tr th:only-of-type {\n",
              "        vertical-align: middle;\n",
              "    }\n",
              "\n",
              "    .dataframe tbody tr th {\n",
              "        vertical-align: top;\n",
              "    }\n",
              "\n",
              "    .dataframe thead th {\n",
              "        text-align: right;\n",
              "    }\n",
              "</style>\n",
              "<table border=\"1\" class=\"dataframe\">\n",
              "  <thead>\n",
              "    <tr style=\"text-align: right;\">\n",
              "      <th></th>\n",
              "      <th>id</th>\n",
              "      <th>name</th>\n",
              "      <th>host_id</th>\n",
              "      <th>host_name</th>\n",
              "      <th>neighbourhood_group</th>\n",
              "      <th>neighbourhood</th>\n",
              "      <th>latitude</th>\n",
              "      <th>longitude</th>\n",
              "      <th>room_type</th>\n",
              "      <th>price</th>\n",
              "      <th>minimum_nights</th>\n",
              "      <th>number_of_reviews</th>\n",
              "      <th>last_review</th>\n",
              "      <th>reviews_per_month</th>\n",
              "      <th>calculated_host_listings_count</th>\n",
              "      <th>availability_365</th>\n",
              "    </tr>\n",
              "  </thead>\n",
              "  <tbody>\n",
              "    <tr>\n",
              "      <th>0</th>\n",
              "      <td>2539</td>\n",
              "      <td>Clean &amp; quiet apt home by the park</td>\n",
              "      <td>2787</td>\n",
              "      <td>John</td>\n",
              "      <td>Brooklyn</td>\n",
              "      <td>Kensington</td>\n",
              "      <td>40.64749</td>\n",
              "      <td>-73.97237</td>\n",
              "      <td>Private room</td>\n",
              "      <td>149</td>\n",
              "      <td>1</td>\n",
              "      <td>9</td>\n",
              "      <td>2018-10-19</td>\n",
              "      <td>0.21</td>\n",
              "      <td>6</td>\n",
              "      <td>365</td>\n",
              "    </tr>\n",
              "  </tbody>\n",
              "</table>\n",
              "</div>"
            ],
            "text/plain": [
              "     id  ... availability_365\n",
              "0  2539  ...              365\n",
              "\n",
              "[1 rows x 16 columns]"
            ]
          },
          "metadata": {
            "tags": []
          },
          "execution_count": 78
        }
      ]
    },
    {
      "cell_type": "code",
      "metadata": {
        "colab": {
          "base_uri": "https://localhost:8080/"
        },
        "id": "nTih5akdocc7",
        "outputId": "dd487b35-5608-45d7-b7c0-eeec0cf85f55"
      },
      "source": [
        "# Columns in dataframe\n",
        "df.columns"
      ],
      "execution_count": null,
      "outputs": [
        {
          "output_type": "execute_result",
          "data": {
            "text/plain": [
              "Index(['id', 'name', 'host_id', 'host_name', 'neighbourhood_group',\n",
              "       'neighbourhood', 'latitude', 'longitude', 'room_type', 'price',\n",
              "       'minimum_nights', 'number_of_reviews', 'last_review',\n",
              "       'reviews_per_month', 'calculated_host_listings_count',\n",
              "       'availability_365'],\n",
              "      dtype='object')"
            ]
          },
          "metadata": {
            "tags": []
          },
          "execution_count": 79
        }
      ]
    },
    {
      "cell_type": "code",
      "metadata": {
        "colab": {
          "base_uri": "https://localhost:8080/"
        },
        "id": "dMRk-rurlfhM",
        "outputId": "3f277a44-525f-4d34-bf19-d18fdee946e0"
      },
      "source": [
        "# Checking the unique elements of neighbourhood_group\n",
        "df['neighbourhood_group'].unique() "
      ],
      "execution_count": null,
      "outputs": [
        {
          "output_type": "execute_result",
          "data": {
            "text/plain": [
              "array(['Brooklyn', 'Manhattan', 'Queens', 'Staten Island', 'Bronx'],\n",
              "      dtype=object)"
            ]
          },
          "metadata": {
            "tags": []
          },
          "execution_count": 80
        }
      ]
    },
    {
      "cell_type": "markdown",
      "metadata": {
        "id": "zFF3b2d1mKKT"
      },
      "source": [
        "*   There are five neighbourhood groups given in the dataset.\n",
        "\n",
        "\n"
      ]
    },
    {
      "cell_type": "code",
      "metadata": {
        "colab": {
          "base_uri": "https://localhost:8080/"
        },
        "id": "HhM4CCb8mXHX",
        "outputId": "a0e3b996-30fa-4baa-deab-a9cc1754bc57"
      },
      "source": [
        "# Checking the unique elements of room_type\n",
        "df['room_type'].unique()"
      ],
      "execution_count": null,
      "outputs": [
        {
          "output_type": "execute_result",
          "data": {
            "text/plain": [
              "array(['Private room', 'Entire home/apt', 'Shared room'], dtype=object)"
            ]
          },
          "metadata": {
            "tags": []
          },
          "execution_count": 81
        }
      ]
    },
    {
      "cell_type": "markdown",
      "metadata": {
        "id": "j4rdMHcWmrqc"
      },
      "source": [
        "*   There are three room types available in dataset as 'Private room', 'Entire home/apt', 'Shared room'.\n"
      ]
    },
    {
      "cell_type": "code",
      "metadata": {
        "colab": {
          "base_uri": "https://localhost:8080/"
        },
        "id": "wkBPE4v9pudt",
        "outputId": "d208d537-99d2-4ae5-c7db-499b8c59d633"
      },
      "source": [
        "df.info()"
      ],
      "execution_count": null,
      "outputs": [
        {
          "output_type": "stream",
          "text": [
            "<class 'pandas.core.frame.DataFrame'>\n",
            "RangeIndex: 48895 entries, 0 to 48894\n",
            "Data columns (total 16 columns):\n",
            " #   Column                          Non-Null Count  Dtype  \n",
            "---  ------                          --------------  -----  \n",
            " 0   id                              48895 non-null  int64  \n",
            " 1   name                            48879 non-null  object \n",
            " 2   host_id                         48895 non-null  int64  \n",
            " 3   host_name                       48874 non-null  object \n",
            " 4   neighbourhood_group             48895 non-null  object \n",
            " 5   neighbourhood                   48895 non-null  object \n",
            " 6   latitude                        48895 non-null  float64\n",
            " 7   longitude                       48895 non-null  float64\n",
            " 8   room_type                       48895 non-null  object \n",
            " 9   price                           48895 non-null  int64  \n",
            " 10  minimum_nights                  48895 non-null  int64  \n",
            " 11  number_of_reviews               48895 non-null  int64  \n",
            " 12  last_review                     38843 non-null  object \n",
            " 13  reviews_per_month               38843 non-null  float64\n",
            " 14  calculated_host_listings_count  48895 non-null  int64  \n",
            " 15  availability_365                48895 non-null  int64  \n",
            "dtypes: float64(3), int64(7), object(6)\n",
            "memory usage: 6.0+ MB\n"
          ],
          "name": "stdout"
        }
      ]
    },
    {
      "cell_type": "markdown",
      "metadata": {
        "id": "1Hd76-pkk1Vd"
      },
      "source": [
        "*   ``last_review`` and ``reviews_per_month`` contains some null values\n",
        "\n",
        "\n"
      ]
    },
    {
      "cell_type": "markdown",
      "metadata": {
        "id": "KKNhXOxsnnfx"
      },
      "source": [
        "*   There are some irrelevant colmns which we dont need in the dataset like ``name``, ``id``, ``last_review``, ``host_name``.\n",
        "\n",
        "\n"
      ]
    },
    {
      "cell_type": "code",
      "metadata": {
        "id": "M5G0r5WEnmWw"
      },
      "source": [
        "# Droping irrelevant columns\n",
        "df.drop(['id','name','last_review','host_name'],axis = 1, inplace = True)"
      ],
      "execution_count": null,
      "outputs": []
    },
    {
      "cell_type": "code",
      "metadata": {
        "colab": {
          "base_uri": "https://localhost:8080/"
        },
        "id": "J35EHGMFp9fl",
        "outputId": "88b6e03b-82cc-4037-e074-ee668de90113"
      },
      "source": [
        "df.info()"
      ],
      "execution_count": null,
      "outputs": [
        {
          "output_type": "stream",
          "text": [
            "<class 'pandas.core.frame.DataFrame'>\n",
            "RangeIndex: 48895 entries, 0 to 48894\n",
            "Data columns (total 12 columns):\n",
            " #   Column                          Non-Null Count  Dtype  \n",
            "---  ------                          --------------  -----  \n",
            " 0   host_id                         48895 non-null  int64  \n",
            " 1   neighbourhood_group             48895 non-null  object \n",
            " 2   neighbourhood                   48895 non-null  object \n",
            " 3   latitude                        48895 non-null  float64\n",
            " 4   longitude                       48895 non-null  float64\n",
            " 5   room_type                       48895 non-null  object \n",
            " 6   price                           48895 non-null  int64  \n",
            " 7   minimum_nights                  48895 non-null  int64  \n",
            " 8   number_of_reviews               48895 non-null  int64  \n",
            " 9   reviews_per_month               38843 non-null  float64\n",
            " 10  calculated_host_listings_count  48895 non-null  int64  \n",
            " 11  availability_365                48895 non-null  int64  \n",
            "dtypes: float64(3), int64(6), object(3)\n",
            "memory usage: 4.5+ MB\n"
          ],
          "name": "stdout"
        }
      ]
    },
    {
      "cell_type": "markdown",
      "metadata": {
        "id": "JeA5J8aKqDai"
      },
      "source": [
        "* After dropping four columns dataset has left with 12 columns.\n"
      ]
    },
    {
      "cell_type": "markdown",
      "metadata": {
        "id": "jfuDIOMYjiNN"
      },
      "source": [
        "*   Checking null values and replacing them with zero.\n",
        "\n",
        "\n",
        "\n",
        "\n"
      ]
    },
    {
      "cell_type": "code",
      "metadata": {
        "colab": {
          "base_uri": "https://localhost:8080/"
        },
        "id": "9i755wWwb6xQ",
        "outputId": "7d5fb8b2-ea6f-4f5f-e4bd-dea044f7ae0b"
      },
      "source": [
        "df.isnull().mean()*100"
      ],
      "execution_count": null,
      "outputs": [
        {
          "output_type": "execute_result",
          "data": {
            "text/plain": [
              "host_id                            0.000000\n",
              "neighbourhood_group                0.000000\n",
              "neighbourhood                      0.000000\n",
              "latitude                           0.000000\n",
              "longitude                          0.000000\n",
              "room_type                          0.000000\n",
              "price                              0.000000\n",
              "minimum_nights                     0.000000\n",
              "number_of_reviews                  0.000000\n",
              "reviews_per_month                 20.558339\n",
              "calculated_host_listings_count     0.000000\n",
              "availability_365                   0.000000\n",
              "dtype: float64"
            ]
          },
          "metadata": {
            "tags": []
          },
          "execution_count": 85
        }
      ]
    },
    {
      "cell_type": "markdown",
      "metadata": {
        "id": "uSROgQShkB9-"
      },
      "source": [
        "``reviews_per_month`` contains 20% null values. "
      ]
    },
    {
      "cell_type": "code",
      "metadata": {
        "id": "mgjh6S4YdmPC"
      },
      "source": [
        "# Replacing null values with 0.\n",
        "df['reviews_per_month'] = df['reviews_per_month'].fillna(0)\n"
      ],
      "execution_count": null,
      "outputs": []
    },
    {
      "cell_type": "code",
      "metadata": {
        "colab": {
          "base_uri": "https://localhost:8080/"
        },
        "id": "-hEfmu1UnmZD",
        "outputId": "32f823f0-db5c-472c-805a-27ca0e27f584"
      },
      "source": [
        "df.isnull().mean()*100"
      ],
      "execution_count": null,
      "outputs": [
        {
          "output_type": "execute_result",
          "data": {
            "text/plain": [
              "host_id                           0.0\n",
              "neighbourhood_group               0.0\n",
              "neighbourhood                     0.0\n",
              "latitude                          0.0\n",
              "longitude                         0.0\n",
              "room_type                         0.0\n",
              "price                             0.0\n",
              "minimum_nights                    0.0\n",
              "number_of_reviews                 0.0\n",
              "reviews_per_month                 0.0\n",
              "calculated_host_listings_count    0.0\n",
              "availability_365                  0.0\n",
              "dtype: float64"
            ]
          },
          "metadata": {
            "tags": []
          },
          "execution_count": 87
        }
      ]
    },
    {
      "cell_type": "markdown",
      "metadata": {
        "id": "qFJq_W6LrBQm"
      },
      "source": [
        "# **Data Analysis** "
      ]
    },
    {
      "cell_type": "markdown",
      "metadata": {
        "id": "zBoj5ZrarNf8"
      },
      "source": [
        "**1.**    **Number of host in different neighbourhood_group~** **bold text**\n",
        "\n"
      ]
    },
    {
      "cell_type": "code",
      "metadata": {
        "colab": {
          "base_uri": "https://localhost:8080/",
          "height": 486
        },
        "id": "r38q4NNorNGO",
        "outputId": "a96ad8a3-3839-498e-b06a-70a5eb902c5d"
      },
      "source": [
        "no_of_host= df.groupby(['neighbourhood_group'])['host_id'].count().plot.bar(\n",
        "            width=0.8,\n",
        "            linewidth=1,\n",
        "            edgecolor='black',\n",
        "            figsize = (12,6),\n",
        "            fontsize = 10,\n",
        "            color=['blue','orange','green','maroon','yellow']) \n",
        "plots=no_of_host\n",
        "\n",
        "for bar in plots.patches:\n",
        "    plots.annotate(format(bar.get_height(), '.2f'), \n",
        "                   (bar.get_x() + bar.get_width() / 2, \n",
        "                    bar.get_height()), ha='center', va='center',\n",
        "                   size=10, xytext=(0, 5),\n",
        "                   textcoords='offset points')\n",
        "    \n",
        "no_of_host.set_title('Number of host in different neighbourhood_group',fontsize=20)\n",
        "no_of_host.set_xlabel('Neighbourhood Group',fontsize=15)\n",
        "no_of_host.set_ylabel('Number of Hosts', fontsize=15)\n"
      ],
      "execution_count": null,
      "outputs": [
        {
          "output_type": "execute_result",
          "data": {
            "text/plain": [
              "Text(0, 0.5, 'Number of Hosts')"
            ]
          },
          "metadata": {
            "tags": []
          },
          "execution_count": 88
        },
        {
          "output_type": "display_data",
          "data": {
            "image/png": "[encoded data removed]",
            "text/plain": [
              "<Figure size 864x432 with 1 Axes>"
            ]
          },
          "metadata": {
            "tags": [],
            "needs_background": "light"
          }
        }
      ]
    },
    {
      "cell_type": "markdown",
      "metadata": {
        "id": "hn23w9ZBkf0p"
      },
      "source": [
        "*  This graph shows that the maximum number of hosts are in Manhattan and Brooklyn."
      ]
    },
    {
      "cell_type": "markdown",
      "metadata": {
        "id": "WnuqvKDQ1AdT"
      },
      "source": [
        " **2.**   **Total number of properties by their type**\n",
        "\n",
        "\n",
        "\n"
      ]
    },
    {
      "cell_type": "code",
      "metadata": {
        "id": "2IgEAZpLnzdp",
        "colab": {
          "base_uri": "https://localhost:8080/",
          "height": 484
        },
        "outputId": "4dc3961c-e713-4b49-fcaf-36fd2c004de5"
      },
      "source": [
        "no_of_rooms=df.groupby(['room_type'])['host_id'].count().plot.bar(              # Grouping room_type and host_id columns by the total count of properties.\n",
        "            width=0.8,\n",
        "            linewidth=1,\n",
        "            edgecolor='black',\n",
        "            figsize = (12,6),\n",
        "            fontsize = 10,\n",
        "            color='orange') \n",
        "plots=no_of_rooms                                                               # Declaring no_of_rooms to plots for annoting the bars                                                                  \n",
        "for bar in plots.patches:                                                       # Iterrating over the bars one-by-one\n",
        "    plots.annotate(format(bar.get_height(), '.2f'), \n",
        "                   (bar.get_x() + bar.get_width() / 2, \n",
        "                    bar.get_height()), ha='center', va='center',                # ha and va stand for the horizontal and vertical alignment\n",
        "                   size=10, xytext=(0, 5),\n",
        "                   textcoords='offset points')\n",
        "no_of_rooms.set_title('Total number of properties by their type',fontsize=20)   # setting title\n",
        "no_of_rooms.set_xlabel('Room Type',fontsize=15)                                 # setting x-label\n",
        "no_of_rooms.set_ylabel('Number of properties', fontsize=15)                          # setting y-label\n",
        "no_of_rooms.grid(True,axis='y',linestyle='--',color='0.75')                     # setting grids on Y-axis  \n"
      ],
      "execution_count": null,
      "outputs": [
        {
          "output_type": "display_data",
          "data": {
            "image/png": "[encoded data removed]",
            "text/plain": [
              "<Figure size 864x432 with 1 Axes>"
            ]
          },
          "metadata": {
            "tags": [],
            "needs_background": "light"
          }
        }
      ]
    },
    {
      "cell_type": "markdown",
      "metadata": {
        "id": "6EvQlJjnh-BJ"
      },
      "source": [
        "* In the above plot we can see that the number of Entire home/apt has maximum listed rooms as compared to other two types."
      ]
    },
    {
      "cell_type": "markdown",
      "metadata": {
        "id": "Y0vyEbZClvYV"
      },
      "source": [
        "**3.** **Top 10 host with most number of apartment~**"
      ]
    },
    {
      "cell_type": "code",
      "metadata": {
        "id": "oUW8eo2M28qp"
      },
      "source": [
        "# Checking host count by which we can get the total properties of that specific host\n",
        "hosts_count=pd.DataFrame(df['host_id'].value_counts())"
      ],
      "execution_count": null,
      "outputs": []
    },
    {
      "cell_type": "code",
      "metadata": {
        "id": "rvRAXLQGmJFN"
      },
      "source": [
        "# Renaming columns and resetting the indexes\n",
        "hosts_count=hosts_count.reset_index().rename(columns = {'index':\"host_id\", 'host_id':'Number of listed apt'})"
      ],
      "execution_count": null,
      "outputs": []
    },
    {
      "cell_type": "code",
      "metadata": {
        "colab": {
          "base_uri": "https://localhost:8080/",
          "height": 345
        },
        "id": "YwiDGIk2nTcI",
        "outputId": "db36ef09-e21f-4cd6-f426-911f28b5cf7b"
      },
      "source": [
        "# Taking top 10 hosts which have the most number of properties\n",
        "top_10_hosts=hosts_count.head(10)\n",
        "top_10_hosts"
      ],
      "execution_count": null,
      "outputs": [
        {
          "output_type": "execute_result",
          "data": {
            "text/html": [
              "<div>\n",
              "<style scoped>\n",
              "    .dataframe tbody tr th:only-of-type {\n",
              "        vertical-align: middle;\n",
              "    }\n",
              "\n",
              "    .dataframe tbody tr th {\n",
              "        vertical-align: top;\n",
              "    }\n",
              "\n",
              "    .dataframe thead th {\n",
              "        text-align: right;\n",
              "    }\n",
              "</style>\n",
              "<table border=\"1\" class=\"dataframe\">\n",
              "  <thead>\n",
              "    <tr style=\"text-align: right;\">\n",
              "      <th></th>\n",
              "      <th>host_id</th>\n",
              "      <th>Number of listed apt</th>\n",
              "    </tr>\n",
              "  </thead>\n",
              "  <tbody>\n",
              "    <tr>\n",
              "      <th>0</th>\n",
              "      <td>219517861</td>\n",
              "      <td>327</td>\n",
              "    </tr>\n",
              "    <tr>\n",
              "      <th>1</th>\n",
              "      <td>107434423</td>\n",
              "      <td>232</td>\n",
              "    </tr>\n",
              "    <tr>\n",
              "      <th>2</th>\n",
              "      <td>30283594</td>\n",
              "      <td>121</td>\n",
              "    </tr>\n",
              "    <tr>\n",
              "      <th>3</th>\n",
              "      <td>137358866</td>\n",
              "      <td>103</td>\n",
              "    </tr>\n",
              "    <tr>\n",
              "      <th>4</th>\n",
              "      <td>12243051</td>\n",
              "      <td>96</td>\n",
              "    </tr>\n",
              "    <tr>\n",
              "      <th>5</th>\n",
              "      <td>16098958</td>\n",
              "      <td>96</td>\n",
              "    </tr>\n",
              "    <tr>\n",
              "      <th>6</th>\n",
              "      <td>61391963</td>\n",
              "      <td>91</td>\n",
              "    </tr>\n",
              "    <tr>\n",
              "      <th>7</th>\n",
              "      <td>22541573</td>\n",
              "      <td>87</td>\n",
              "    </tr>\n",
              "    <tr>\n",
              "      <th>8</th>\n",
              "      <td>200380610</td>\n",
              "      <td>65</td>\n",
              "    </tr>\n",
              "    <tr>\n",
              "      <th>9</th>\n",
              "      <td>7503643</td>\n",
              "      <td>52</td>\n",
              "    </tr>\n",
              "  </tbody>\n",
              "</table>\n",
              "</div>"
            ],
            "text/plain": [
              "     host_id  Number of listed apt\n",
              "0  219517861                   327\n",
              "1  107434423                   232\n",
              "2   30283594                   121\n",
              "3  137358866                   103\n",
              "4   12243051                    96\n",
              "5   16098958                    96\n",
              "6   61391963                    91\n",
              "7   22541573                    87\n",
              "8  200380610                    65\n",
              "9    7503643                    52"
            ]
          },
          "metadata": {
            "tags": []
          },
          "execution_count": 92
        }
      ]
    },
    {
      "cell_type": "code",
      "metadata": {
        "colab": {
          "base_uri": "https://localhost:8080/",
          "height": 407
        },
        "id": "p5t_dz0DmYxY",
        "outputId": "f53fffae-3d9a-40e3-a6d5-1c9c89a7282c"
      },
      "source": [
        "plots= top_10_hosts.plot.bar(x ='host_id', y = 'Number of listed apt', \n",
        "                             color='orange',figsize = (10,5),edgecolor='black')\n",
        "\n",
        "for bar in plots.patches:                                                       # Iterrating over the bars one-by-one\n",
        "    plots.annotate(format(bar.get_height(), '.2f'), \n",
        "                   (bar.get_x() + bar.get_width() / 2, \n",
        "                    bar.get_height()), ha='center', va='center',                 # ha and va stand for the horizontal and vertical alignment\n",
        "                   size=10, xytext=(0, 5),\n",
        "                   textcoords='offset points')\n",
        "    \n",
        "plt.xlabel(\"Host ID\",fontsize=15)                                               # setting x-label\n",
        "plt.ylabel(\"Total number of rooms\",fontsize=15)                                 # setting y-label\n",
        "plt.title(\"TOP 10 Hosts\",fontsize=20)                                           # setting title\n",
        "plt.grid(True, axis='y',linestyle='--',color='0.75')                            # setting grid\n",
        "plt.show()"
      ],
      "execution_count": null,
      "outputs": [
        {
          "output_type": "display_data",
          "data": {
            "image/png": "[encoded data removed]",
            "text/plain": [
              "<Figure size 720x360 with 1 Axes>"
            ]
          },
          "metadata": {
            "tags": [],
            "needs_background": "light"
          }
        }
      ]
    },
    {
      "cell_type": "markdown",
      "metadata": {
        "id": "WT5VsPyE3FUq"
      },
      "source": [
        "*  The host ID 219517861 has highest number of listed properties. "
      ]
    },
    {
      "cell_type": "markdown",
      "metadata": {
        "id": "XmOxLMN58PAR"
      },
      "source": [
        "**4.** **Top 10 host in different neighbourhood_group~** :'Brooklyn' 'Manhattan' 'Queens' 'Staten Island' 'Bronx'"
      ]
    },
    {
      "cell_type": "code",
      "metadata": {
        "id": "peQ_Vxls5JK7"
      },
      "source": [
        "# Creating a copy of original df but only for those prices which are less than 400$\n",
        "new_df=df[df.price<400]"
      ],
      "execution_count": null,
      "outputs": []
    },
    {
      "cell_type": "markdown",
      "metadata": {
        "id": "IMX59K-VCCeL"
      },
      "source": [
        "* Manhattan "
      ]
    },
    {
      "cell_type": "code",
      "metadata": {
        "colab": {
          "base_uri": "https://localhost:8080/",
          "height": 114
        },
        "id": "XWUFYHQP6RxC",
        "outputId": "af916bcc-4fd7-46cd-8f9f-14a9471b454e"
      },
      "source": [
        "# Creating new dataset of Manhattan\n",
        "Manhattan_df=new_df[new_df['neighbourhood_group']=='Manhattan']\n",
        "Manhattan_df.head(1)"
      ],
      "execution_count": null,
      "outputs": [
        {
          "output_type": "execute_result",
          "data": {
            "text/html": [
              "<div>\n",
              "<style scoped>\n",
              "    .dataframe tbody tr th:only-of-type {\n",
              "        vertical-align: middle;\n",
              "    }\n",
              "\n",
              "    .dataframe tbody tr th {\n",
              "        vertical-align: top;\n",
              "    }\n",
              "\n",
              "    .dataframe thead th {\n",
              "        text-align: right;\n",
              "    }\n",
              "</style>\n",
              "<table border=\"1\" class=\"dataframe\">\n",
              "  <thead>\n",
              "    <tr style=\"text-align: right;\">\n",
              "      <th></th>\n",
              "      <th>host_id</th>\n",
              "      <th>neighbourhood_group</th>\n",
              "      <th>neighbourhood</th>\n",
              "      <th>latitude</th>\n",
              "      <th>longitude</th>\n",
              "      <th>room_type</th>\n",
              "      <th>price</th>\n",
              "      <th>minimum_nights</th>\n",
              "      <th>number_of_reviews</th>\n",
              "      <th>reviews_per_month</th>\n",
              "      <th>calculated_host_listings_count</th>\n",
              "      <th>availability_365</th>\n",
              "    </tr>\n",
              "  </thead>\n",
              "  <tbody>\n",
              "    <tr>\n",
              "      <th>1</th>\n",
              "      <td>2845</td>\n",
              "      <td>Manhattan</td>\n",
              "      <td>Midtown</td>\n",
              "      <td>40.75362</td>\n",
              "      <td>-73.98377</td>\n",
              "      <td>Entire home/apt</td>\n",
              "      <td>225</td>\n",
              "      <td>1</td>\n",
              "      <td>45</td>\n",
              "      <td>0.38</td>\n",
              "      <td>2</td>\n",
              "      <td>355</td>\n",
              "    </tr>\n",
              "  </tbody>\n",
              "</table>\n",
              "</div>"
            ],
            "text/plain": [
              "   host_id  ... availability_365\n",
              "1     2845  ...              355\n",
              "\n",
              "[1 rows x 12 columns]"
            ]
          },
          "metadata": {
            "tags": []
          },
          "execution_count": 95
        }
      ]
    },
    {
      "cell_type": "code",
      "metadata": {
        "id": "21ZL8tLb6YxJ"
      },
      "source": [
        "# Top hosts in manhattan\n",
        "top_hosts_manhattan=Manhattan_df['host_id'].value_counts()"
      ],
      "execution_count": null,
      "outputs": []
    },
    {
      "cell_type": "code",
      "metadata": {
        "id": "X_RddmCKCsJF"
      },
      "source": [
        "# Resetting index\n",
        "top_hosts_manhattan= top_hosts_manhattan.reset_index()"
      ],
      "execution_count": null,
      "outputs": []
    },
    {
      "cell_type": "code",
      "metadata": {
        "id": "GYG9VcSMC_e2"
      },
      "source": [
        "# Renaming columns\n",
        "top_hosts_manhattan.rename(columns={'index':\"host_id\", 'host_id':'Number of listed apt'},inplace=True)"
      ],
      "execution_count": null,
      "outputs": []
    },
    {
      "cell_type": "code",
      "metadata": {
        "colab": {
          "base_uri": "https://localhost:8080/",
          "height": 345
        },
        "id": "-cW26aJGDnhW",
        "outputId": "d873f4f8-6a5f-4b03-ec9d-eeaa41809d46"
      },
      "source": [
        "# Taking top 10 hosts into consideration\n",
        "top_10_hosts_manhattan= top_hosts_manhattan.head(10)\n",
        "top_10_hosts_manhattan"
      ],
      "execution_count": null,
      "outputs": [
        {
          "output_type": "execute_result",
          "data": {
            "text/html": [
              "<div>\n",
              "<style scoped>\n",
              "    .dataframe tbody tr th:only-of-type {\n",
              "        vertical-align: middle;\n",
              "    }\n",
              "\n",
              "    .dataframe tbody tr th {\n",
              "        vertical-align: top;\n",
              "    }\n",
              "\n",
              "    .dataframe thead th {\n",
              "        text-align: right;\n",
              "    }\n",
              "</style>\n",
              "<table border=\"1\" class=\"dataframe\">\n",
              "  <thead>\n",
              "    <tr style=\"text-align: right;\">\n",
              "      <th></th>\n",
              "      <th>host_id</th>\n",
              "      <th>Number of listed apt</th>\n",
              "    </tr>\n",
              "  </thead>\n",
              "  <tbody>\n",
              "    <tr>\n",
              "      <th>0</th>\n",
              "      <td>219517861</td>\n",
              "      <td>284</td>\n",
              "    </tr>\n",
              "    <tr>\n",
              "      <th>1</th>\n",
              "      <td>107434423</td>\n",
              "      <td>218</td>\n",
              "    </tr>\n",
              "    <tr>\n",
              "      <th>2</th>\n",
              "      <td>30283594</td>\n",
              "      <td>113</td>\n",
              "    </tr>\n",
              "    <tr>\n",
              "      <th>3</th>\n",
              "      <td>12243051</td>\n",
              "      <td>96</td>\n",
              "    </tr>\n",
              "    <tr>\n",
              "      <th>4</th>\n",
              "      <td>16098958</td>\n",
              "      <td>93</td>\n",
              "    </tr>\n",
              "    <tr>\n",
              "      <th>5</th>\n",
              "      <td>61391963</td>\n",
              "      <td>91</td>\n",
              "    </tr>\n",
              "    <tr>\n",
              "      <th>6</th>\n",
              "      <td>22541573</td>\n",
              "      <td>86</td>\n",
              "    </tr>\n",
              "    <tr>\n",
              "      <th>7</th>\n",
              "      <td>200380610</td>\n",
              "      <td>54</td>\n",
              "    </tr>\n",
              "    <tr>\n",
              "      <th>8</th>\n",
              "      <td>1475015</td>\n",
              "      <td>52</td>\n",
              "    </tr>\n",
              "    <tr>\n",
              "      <th>9</th>\n",
              "      <td>120762452</td>\n",
              "      <td>50</td>\n",
              "    </tr>\n",
              "  </tbody>\n",
              "</table>\n",
              "</div>"
            ],
            "text/plain": [
              "     host_id  Number of listed apt\n",
              "0  219517861                   284\n",
              "1  107434423                   218\n",
              "2   30283594                   113\n",
              "3   12243051                    96\n",
              "4   16098958                    93\n",
              "5   61391963                    91\n",
              "6   22541573                    86\n",
              "7  200380610                    54\n",
              "8    1475015                    52\n",
              "9  120762452                    50"
            ]
          },
          "metadata": {
            "tags": []
          },
          "execution_count": 99
        }
      ]
    },
    {
      "cell_type": "markdown",
      "metadata": {
        "id": "qRC-RB6MG6fL"
      },
      "source": [
        "*  Aboe **dataset** gives the top 10 hosts of Manhattan city.\n",
        "----------------------------------------------------------------------------------------------------------------------------------------------------------------\n",
        "----------------------------------------------------------------------------------------------------------------------------------------------------------------"
      ]
    },
    {
      "cell_type": "markdown",
      "metadata": {
        "id": "1DjSQ6bkHecO"
      },
      "source": [
        "*  Brooklyn"
      ]
    },
    {
      "cell_type": "code",
      "metadata": {
        "colab": {
          "base_uri": "https://localhost:8080/",
          "height": 114
        },
        "id": "ZKp8aPstFFYs",
        "outputId": "c581023f-73ae-441d-e956-e5087110ef99"
      },
      "source": [
        "# Creating new dataset of Brooklyn \n",
        "Brooklyn_df=new_df[new_df['neighbourhood_group']=='Brooklyn']\n",
        "Brooklyn_df.head(1)"
      ],
      "execution_count": null,
      "outputs": [
        {
          "output_type": "execute_result",
          "data": {
            "text/html": [
              "<div>\n",
              "<style scoped>\n",
              "    .dataframe tbody tr th:only-of-type {\n",
              "        vertical-align: middle;\n",
              "    }\n",
              "\n",
              "    .dataframe tbody tr th {\n",
              "        vertical-align: top;\n",
              "    }\n",
              "\n",
              "    .dataframe thead th {\n",
              "        text-align: right;\n",
              "    }\n",
              "</style>\n",
              "<table border=\"1\" class=\"dataframe\">\n",
              "  <thead>\n",
              "    <tr style=\"text-align: right;\">\n",
              "      <th></th>\n",
              "      <th>host_id</th>\n",
              "      <th>neighbourhood_group</th>\n",
              "      <th>neighbourhood</th>\n",
              "      <th>latitude</th>\n",
              "      <th>longitude</th>\n",
              "      <th>room_type</th>\n",
              "      <th>price</th>\n",
              "      <th>minimum_nights</th>\n",
              "      <th>number_of_reviews</th>\n",
              "      <th>reviews_per_month</th>\n",
              "      <th>calculated_host_listings_count</th>\n",
              "      <th>availability_365</th>\n",
              "    </tr>\n",
              "  </thead>\n",
              "  <tbody>\n",
              "    <tr>\n",
              "      <th>0</th>\n",
              "      <td>2787</td>\n",
              "      <td>Brooklyn</td>\n",
              "      <td>Kensington</td>\n",
              "      <td>40.64749</td>\n",
              "      <td>-73.97237</td>\n",
              "      <td>Private room</td>\n",
              "      <td>149</td>\n",
              "      <td>1</td>\n",
              "      <td>9</td>\n",
              "      <td>0.21</td>\n",
              "      <td>6</td>\n",
              "      <td>365</td>\n",
              "    </tr>\n",
              "  </tbody>\n",
              "</table>\n",
              "</div>"
            ],
            "text/plain": [
              "   host_id  ... availability_365\n",
              "0     2787  ...              365\n",
              "\n",
              "[1 rows x 12 columns]"
            ]
          },
          "metadata": {
            "tags": []
          },
          "execution_count": 100
        }
      ]
    },
    {
      "cell_type": "code",
      "metadata": {
        "id": "5X_mimlLI5U0"
      },
      "source": [
        "# Top hosts in Brooklyn\n",
        "top_hosts_Brooklyn=Brooklyn_df['host_id'].value_counts()"
      ],
      "execution_count": null,
      "outputs": []
    },
    {
      "cell_type": "code",
      "metadata": {
        "id": "CBQZtCOUJEVI"
      },
      "source": [
        "# Resetting index\n",
        "top_hosts_Brooklyn= top_hosts_Brooklyn.reset_index()"
      ],
      "execution_count": null,
      "outputs": []
    },
    {
      "cell_type": "code",
      "metadata": {
        "id": "6cofJSurJK8b"
      },
      "source": [
        "# Renaming columns\n",
        "top_hosts_Brooklyn.rename(columns={'index':\"host_id\", 'host_id':'Number of listed apt'},inplace=True)"
      ],
      "execution_count": null,
      "outputs": []
    },
    {
      "cell_type": "code",
      "metadata": {
        "colab": {
          "base_uri": "https://localhost:8080/",
          "height": 345
        },
        "id": "DJsAuhW0JPd3",
        "outputId": "f11fe8c4-7e31-45e4-eb9a-0c10c721373f"
      },
      "source": [
        "# Taking top 10 hosts into consideration\n",
        "top_10_hosts_Brooklyn= top_hosts_Brooklyn.head(10)\n",
        "top_10_hosts_Brooklyn"
      ],
      "execution_count": null,
      "outputs": [
        {
          "output_type": "execute_result",
          "data": {
            "text/html": [
              "<div>\n",
              "<style scoped>\n",
              "    .dataframe tbody tr th:only-of-type {\n",
              "        vertical-align: middle;\n",
              "    }\n",
              "\n",
              "    .dataframe tbody tr th {\n",
              "        vertical-align: top;\n",
              "    }\n",
              "\n",
              "    .dataframe thead th {\n",
              "        text-align: right;\n",
              "    }\n",
              "</style>\n",
              "<table border=\"1\" class=\"dataframe\">\n",
              "  <thead>\n",
              "    <tr style=\"text-align: right;\">\n",
              "      <th></th>\n",
              "      <th>host_id</th>\n",
              "      <th>Number of listed apt</th>\n",
              "    </tr>\n",
              "  </thead>\n",
              "  <tbody>\n",
              "    <tr>\n",
              "      <th>0</th>\n",
              "      <td>7503643</td>\n",
              "      <td>52</td>\n",
              "    </tr>\n",
              "    <tr>\n",
              "      <th>1</th>\n",
              "      <td>26377263</td>\n",
              "      <td>35</td>\n",
              "    </tr>\n",
              "    <tr>\n",
              "      <th>2</th>\n",
              "      <td>119669058</td>\n",
              "      <td>34</td>\n",
              "    </tr>\n",
              "    <tr>\n",
              "      <th>3</th>\n",
              "      <td>226410657</td>\n",
              "      <td>27</td>\n",
              "    </tr>\n",
              "    <tr>\n",
              "      <th>4</th>\n",
              "      <td>417504</td>\n",
              "      <td>26</td>\n",
              "    </tr>\n",
              "    <tr>\n",
              "      <th>5</th>\n",
              "      <td>230192510</td>\n",
              "      <td>25</td>\n",
              "    </tr>\n",
              "    <tr>\n",
              "      <th>6</th>\n",
              "      <td>213781715</td>\n",
              "      <td>23</td>\n",
              "    </tr>\n",
              "    <tr>\n",
              "      <th>7</th>\n",
              "      <td>16437254</td>\n",
              "      <td>21</td>\n",
              "    </tr>\n",
              "    <tr>\n",
              "      <th>8</th>\n",
              "      <td>9864136</td>\n",
              "      <td>19</td>\n",
              "    </tr>\n",
              "    <tr>\n",
              "      <th>9</th>\n",
              "      <td>159091490</td>\n",
              "      <td>17</td>\n",
              "    </tr>\n",
              "  </tbody>\n",
              "</table>\n",
              "</div>"
            ],
            "text/plain": [
              "     host_id  Number of listed apt\n",
              "0    7503643                    52\n",
              "1   26377263                    35\n",
              "2  119669058                    34\n",
              "3  226410657                    27\n",
              "4     417504                    26\n",
              "5  230192510                    25\n",
              "6  213781715                    23\n",
              "7   16437254                    21\n",
              "8    9864136                    19\n",
              "9  159091490                    17"
            ]
          },
          "metadata": {
            "tags": []
          },
          "execution_count": 104
        }
      ]
    },
    {
      "cell_type": "markdown",
      "metadata": {
        "id": "DyhN4XwQJfVF"
      },
      "source": [
        "*  Above dataset gives the top 10 hosts of Manhattan city.\n",
        "---------------------------------------------------------------------------------------------------------------------------------\n",
        "------------------------------------------------------------------------------------------------------------------------------"
      ]
    },
    {
      "cell_type": "markdown",
      "metadata": {
        "id": "i3cDNTPTyq-O"
      },
      "source": [
        "*  Queens"
      ]
    },
    {
      "cell_type": "code",
      "metadata": {
        "colab": {
          "base_uri": "https://localhost:8080/",
          "height": 114
        },
        "id": "CBV7WPk6JYy3",
        "outputId": "8a393dc3-693d-466b-d0a5-ebf0a39c5d14"
      },
      "source": [
        "# Creating new dataset of Queens\n",
        "Queens_df=new_df[new_df['neighbourhood_group']=='Queens']\n",
        "Queens_df.head(1)"
      ],
      "execution_count": null,
      "outputs": [
        {
          "output_type": "execute_result",
          "data": {
            "text/html": [
              "<div>\n",
              "<style scoped>\n",
              "    .dataframe tbody tr th:only-of-type {\n",
              "        vertical-align: middle;\n",
              "    }\n",
              "\n",
              "    .dataframe tbody tr th {\n",
              "        vertical-align: top;\n",
              "    }\n",
              "\n",
              "    .dataframe thead th {\n",
              "        text-align: right;\n",
              "    }\n",
              "</style>\n",
              "<table border=\"1\" class=\"dataframe\">\n",
              "  <thead>\n",
              "    <tr style=\"text-align: right;\">\n",
              "      <th></th>\n",
              "      <th>host_id</th>\n",
              "      <th>neighbourhood_group</th>\n",
              "      <th>neighbourhood</th>\n",
              "      <th>latitude</th>\n",
              "      <th>longitude</th>\n",
              "      <th>room_type</th>\n",
              "      <th>price</th>\n",
              "      <th>minimum_nights</th>\n",
              "      <th>number_of_reviews</th>\n",
              "      <th>reviews_per_month</th>\n",
              "      <th>calculated_host_listings_count</th>\n",
              "      <th>availability_365</th>\n",
              "    </tr>\n",
              "  </thead>\n",
              "  <tbody>\n",
              "    <tr>\n",
              "      <th>46</th>\n",
              "      <td>50124</td>\n",
              "      <td>Queens</td>\n",
              "      <td>Long Island City</td>\n",
              "      <td>40.74771</td>\n",
              "      <td>-73.9474</td>\n",
              "      <td>Private room</td>\n",
              "      <td>130</td>\n",
              "      <td>3</td>\n",
              "      <td>248</td>\n",
              "      <td>2.25</td>\n",
              "      <td>1</td>\n",
              "      <td>215</td>\n",
              "    </tr>\n",
              "  </tbody>\n",
              "</table>\n",
              "</div>"
            ],
            "text/plain": [
              "    host_id  ... availability_365\n",
              "46    50124  ...              215\n",
              "\n",
              "[1 rows x 12 columns]"
            ]
          },
          "metadata": {
            "tags": []
          },
          "execution_count": 105
        }
      ]
    },
    {
      "cell_type": "code",
      "metadata": {
        "id": "7IYxekDBy17b"
      },
      "source": [
        "# Top hosts in Brooklyn\n",
        "top_hosts_Queens=Queens_df['host_id'].value_counts()"
      ],
      "execution_count": null,
      "outputs": []
    },
    {
      "cell_type": "code",
      "metadata": {
        "id": "fx8eH1vQy5CE"
      },
      "source": [
        "# Resetting index\n",
        "top_hosts_Queens= top_hosts_Queens.reset_index()"
      ],
      "execution_count": null,
      "outputs": []
    },
    {
      "cell_type": "code",
      "metadata": {
        "id": "G7Tefccny9IT"
      },
      "source": [
        "# Renaming columns\n",
        "top_hosts_Queens.rename(columns={'index':\"host_id\", 'host_id':'Number of listed apt'},inplace=True)"
      ],
      "execution_count": null,
      "outputs": []
    },
    {
      "cell_type": "code",
      "metadata": {
        "colab": {
          "base_uri": "https://localhost:8080/",
          "height": 345
        },
        "id": "yQhiGcvQy9vU",
        "outputId": "eb271420-8c2f-48a7-cb31-17e944ed18a6"
      },
      "source": [
        "# Taking top 10 hosts into consideration\n",
        "top_10_hosts_Queens= top_hosts_Queens.head(10)\n",
        "top_10_hosts_Queens"
      ],
      "execution_count": null,
      "outputs": [
        {
          "output_type": "execute_result",
          "data": {
            "text/html": [
              "<div>\n",
              "<style scoped>\n",
              "    .dataframe tbody tr th:only-of-type {\n",
              "        vertical-align: middle;\n",
              "    }\n",
              "\n",
              "    .dataframe tbody tr th {\n",
              "        vertical-align: top;\n",
              "    }\n",
              "\n",
              "    .dataframe thead th {\n",
              "        text-align: right;\n",
              "    }\n",
              "</style>\n",
              "<table border=\"1\" class=\"dataframe\">\n",
              "  <thead>\n",
              "    <tr style=\"text-align: right;\">\n",
              "      <th></th>\n",
              "      <th>host_id</th>\n",
              "      <th>Number of listed apt</th>\n",
              "    </tr>\n",
              "  </thead>\n",
              "  <tbody>\n",
              "    <tr>\n",
              "      <th>0</th>\n",
              "      <td>137358866</td>\n",
              "      <td>79</td>\n",
              "    </tr>\n",
              "    <tr>\n",
              "      <th>1</th>\n",
              "      <td>19303369</td>\n",
              "      <td>29</td>\n",
              "    </tr>\n",
              "    <tr>\n",
              "      <th>2</th>\n",
              "      <td>242962235</td>\n",
              "      <td>23</td>\n",
              "    </tr>\n",
              "    <tr>\n",
              "      <th>3</th>\n",
              "      <td>134184451</td>\n",
              "      <td>18</td>\n",
              "    </tr>\n",
              "    <tr>\n",
              "      <th>4</th>\n",
              "      <td>3250450</td>\n",
              "      <td>16</td>\n",
              "    </tr>\n",
              "    <tr>\n",
              "      <th>5</th>\n",
              "      <td>200239515</td>\n",
              "      <td>15</td>\n",
              "    </tr>\n",
              "    <tr>\n",
              "      <th>6</th>\n",
              "      <td>5962328</td>\n",
              "      <td>15</td>\n",
              "    </tr>\n",
              "    <tr>\n",
              "      <th>7</th>\n",
              "      <td>65809485</td>\n",
              "      <td>12</td>\n",
              "    </tr>\n",
              "    <tr>\n",
              "      <th>8</th>\n",
              "      <td>175730239</td>\n",
              "      <td>12</td>\n",
              "    </tr>\n",
              "    <tr>\n",
              "      <th>9</th>\n",
              "      <td>263053182</td>\n",
              "      <td>10</td>\n",
              "    </tr>\n",
              "  </tbody>\n",
              "</table>\n",
              "</div>"
            ],
            "text/plain": [
              "     host_id  Number of listed apt\n",
              "0  137358866                    79\n",
              "1   19303369                    29\n",
              "2  242962235                    23\n",
              "3  134184451                    18\n",
              "4    3250450                    16\n",
              "5  200239515                    15\n",
              "6    5962328                    15\n",
              "7   65809485                    12\n",
              "8  175730239                    12\n",
              "9  263053182                    10"
            ]
          },
          "metadata": {
            "tags": []
          },
          "execution_count": 109
        }
      ]
    },
    {
      "cell_type": "markdown",
      "metadata": {
        "id": "KT7rQw-8zfun"
      },
      "source": [
        "*  Above dataset gives the top 10 hosts of Queens city.\n",
        "---------------------------------------------------------------------------------------------------------------------------------\n",
        "------------------------------------------------------------------------------------------------------------------------------"
      ]
    },
    {
      "cell_type": "markdown",
      "metadata": {
        "id": "eMXjC-SPzkkI"
      },
      "source": [
        "* Staten island"
      ]
    },
    {
      "cell_type": "code",
      "metadata": {
        "colab": {
          "base_uri": "https://localhost:8080/",
          "height": 114
        },
        "id": "uN3u4Y0dzUNj",
        "outputId": "acc04661-5eb1-4755-f6d2-41ad32fa8d40"
      },
      "source": [
        "# Creating new dataset of Staten island\n",
        "island_df=new_df[new_df['neighbourhood_group']=='Staten Island']\n",
        "island_df.head(1)"
      ],
      "execution_count": null,
      "outputs": [
        {
          "output_type": "execute_result",
          "data": {
            "text/html": [
              "<div>\n",
              "<style scoped>\n",
              "    .dataframe tbody tr th:only-of-type {\n",
              "        vertical-align: middle;\n",
              "    }\n",
              "\n",
              "    .dataframe tbody tr th {\n",
              "        vertical-align: top;\n",
              "    }\n",
              "\n",
              "    .dataframe thead th {\n",
              "        text-align: right;\n",
              "    }\n",
              "</style>\n",
              "<table border=\"1\" class=\"dataframe\">\n",
              "  <thead>\n",
              "    <tr style=\"text-align: right;\">\n",
              "      <th></th>\n",
              "      <th>host_id</th>\n",
              "      <th>neighbourhood_group</th>\n",
              "      <th>neighbourhood</th>\n",
              "      <th>latitude</th>\n",
              "      <th>longitude</th>\n",
              "      <th>room_type</th>\n",
              "      <th>price</th>\n",
              "      <th>minimum_nights</th>\n",
              "      <th>number_of_reviews</th>\n",
              "      <th>reviews_per_month</th>\n",
              "      <th>calculated_host_listings_count</th>\n",
              "      <th>availability_365</th>\n",
              "    </tr>\n",
              "  </thead>\n",
              "  <tbody>\n",
              "    <tr>\n",
              "      <th>169</th>\n",
              "      <td>185978</td>\n",
              "      <td>Staten Island</td>\n",
              "      <td>St. George</td>\n",
              "      <td>40.64524</td>\n",
              "      <td>-74.08088</td>\n",
              "      <td>Private room</td>\n",
              "      <td>70</td>\n",
              "      <td>2</td>\n",
              "      <td>166</td>\n",
              "      <td>1.66</td>\n",
              "      <td>1</td>\n",
              "      <td>312</td>\n",
              "    </tr>\n",
              "  </tbody>\n",
              "</table>\n",
              "</div>"
            ],
            "text/plain": [
              "     host_id  ... availability_365\n",
              "169   185978  ...              312\n",
              "\n",
              "[1 rows x 12 columns]"
            ]
          },
          "metadata": {
            "tags": []
          },
          "execution_count": 110
        }
      ]
    },
    {
      "cell_type": "code",
      "metadata": {
        "id": "FNbXmt0oz4kj"
      },
      "source": [
        "# Top hosts in Staten island\n",
        "top_hosts_island=island_df['host_id'].value_counts()"
      ],
      "execution_count": null,
      "outputs": []
    },
    {
      "cell_type": "code",
      "metadata": {
        "id": "6Tb2NzM00H60"
      },
      "source": [
        "# Resetting index\n",
        "top_hosts_island= top_hosts_island.reset_index()"
      ],
      "execution_count": null,
      "outputs": []
    },
    {
      "cell_type": "code",
      "metadata": {
        "id": "LGsfqhDW0NYz"
      },
      "source": [
        "# Renaming columns\n",
        "top_hosts_island.rename(columns={'index':\"host_id\", 'host_id':'Number of listed apt'},inplace=True)"
      ],
      "execution_count": null,
      "outputs": []
    },
    {
      "cell_type": "code",
      "metadata": {
        "colab": {
          "base_uri": "https://localhost:8080/",
          "height": 345
        },
        "id": "r9PdFgzs0SCj",
        "outputId": "7e91b659-9cea-4f64-f1fa-ef3fd0ef415a"
      },
      "source": [
        "# Taking top 10 hosts into consideration\n",
        "top_10_hosts_island= top_hosts_island.head(10)\n",
        "top_10_hosts_island"
      ],
      "execution_count": null,
      "outputs": [
        {
          "output_type": "execute_result",
          "data": {
            "text/html": [
              "<div>\n",
              "<style scoped>\n",
              "    .dataframe tbody tr th:only-of-type {\n",
              "        vertical-align: middle;\n",
              "    }\n",
              "\n",
              "    .dataframe tbody tr th {\n",
              "        vertical-align: top;\n",
              "    }\n",
              "\n",
              "    .dataframe thead th {\n",
              "        text-align: right;\n",
              "    }\n",
              "</style>\n",
              "<table border=\"1\" class=\"dataframe\">\n",
              "  <thead>\n",
              "    <tr style=\"text-align: right;\">\n",
              "      <th></th>\n",
              "      <th>host_id</th>\n",
              "      <th>Number of listed apt</th>\n",
              "    </tr>\n",
              "  </thead>\n",
              "  <tbody>\n",
              "    <tr>\n",
              "      <th>0</th>\n",
              "      <td>104812805</td>\n",
              "      <td>8</td>\n",
              "    </tr>\n",
              "    <tr>\n",
              "      <th>1</th>\n",
              "      <td>50756378</td>\n",
              "      <td>7</td>\n",
              "    </tr>\n",
              "    <tr>\n",
              "      <th>2</th>\n",
              "      <td>104927746</td>\n",
              "      <td>7</td>\n",
              "    </tr>\n",
              "    <tr>\n",
              "      <th>3</th>\n",
              "      <td>137999892</td>\n",
              "      <td>7</td>\n",
              "    </tr>\n",
              "    <tr>\n",
              "      <th>4</th>\n",
              "      <td>117492425</td>\n",
              "      <td>6</td>\n",
              "    </tr>\n",
              "    <tr>\n",
              "      <th>5</th>\n",
              "      <td>303939</td>\n",
              "      <td>6</td>\n",
              "    </tr>\n",
              "    <tr>\n",
              "      <th>6</th>\n",
              "      <td>99202586</td>\n",
              "      <td>5</td>\n",
              "    </tr>\n",
              "    <tr>\n",
              "      <th>7</th>\n",
              "      <td>92493393</td>\n",
              "      <td>5</td>\n",
              "    </tr>\n",
              "    <tr>\n",
              "      <th>8</th>\n",
              "      <td>128338539</td>\n",
              "      <td>4</td>\n",
              "    </tr>\n",
              "    <tr>\n",
              "      <th>9</th>\n",
              "      <td>43392243</td>\n",
              "      <td>4</td>\n",
              "    </tr>\n",
              "  </tbody>\n",
              "</table>\n",
              "</div>"
            ],
            "text/plain": [
              "     host_id  Number of listed apt\n",
              "0  104812805                     8\n",
              "1   50756378                     7\n",
              "2  104927746                     7\n",
              "3  137999892                     7\n",
              "4  117492425                     6\n",
              "5     303939                     6\n",
              "6   99202586                     5\n",
              "7   92493393                     5\n",
              "8  128338539                     4\n",
              "9   43392243                     4"
            ]
          },
          "metadata": {
            "tags": []
          },
          "execution_count": 114
        }
      ]
    },
    {
      "cell_type": "markdown",
      "metadata": {
        "id": "zkj-iQPs0aJU"
      },
      "source": [
        "*  Above dataset gives the top 10 hosts of Staten Island.\n",
        "--------------------------------------------------------------------------------------------------------------------------------\n",
        "-----------------------------------------------------------------------------------------------------------------------"
      ]
    },
    {
      "cell_type": "markdown",
      "metadata": {
        "id": "ghZND5v-1GHj"
      },
      "source": [
        "*  Bronx"
      ]
    },
    {
      "cell_type": "code",
      "metadata": {
        "colab": {
          "base_uri": "https://localhost:8080/",
          "height": 114
        },
        "id": "OQrvYC0q0XrU",
        "outputId": "00f821f3-3f45-4b81-9d6b-ea9945828526"
      },
      "source": [
        "# Creating new dataset of Staten island\n",
        "Bronx_df=new_df[new_df['neighbourhood_group']=='Bronx']\n",
        "Bronx_df.head(1)"
      ],
      "execution_count": null,
      "outputs": [
        {
          "output_type": "execute_result",
          "data": {
            "text/html": [
              "<div>\n",
              "<style scoped>\n",
              "    .dataframe tbody tr th:only-of-type {\n",
              "        vertical-align: middle;\n",
              "    }\n",
              "\n",
              "    .dataframe tbody tr th {\n",
              "        vertical-align: top;\n",
              "    }\n",
              "\n",
              "    .dataframe thead th {\n",
              "        text-align: right;\n",
              "    }\n",
              "</style>\n",
              "<table border=\"1\" class=\"dataframe\">\n",
              "  <thead>\n",
              "    <tr style=\"text-align: right;\">\n",
              "      <th></th>\n",
              "      <th>host_id</th>\n",
              "      <th>neighbourhood_group</th>\n",
              "      <th>neighbourhood</th>\n",
              "      <th>latitude</th>\n",
              "      <th>longitude</th>\n",
              "      <th>room_type</th>\n",
              "      <th>price</th>\n",
              "      <th>minimum_nights</th>\n",
              "      <th>number_of_reviews</th>\n",
              "      <th>reviews_per_month</th>\n",
              "      <th>calculated_host_listings_count</th>\n",
              "      <th>availability_365</th>\n",
              "    </tr>\n",
              "  </thead>\n",
              "  <tbody>\n",
              "    <tr>\n",
              "      <th>171</th>\n",
              "      <td>190409</td>\n",
              "      <td>Bronx</td>\n",
              "      <td>Highbridge</td>\n",
              "      <td>40.83232</td>\n",
              "      <td>-73.93184</td>\n",
              "      <td>Private room</td>\n",
              "      <td>40</td>\n",
              "      <td>1</td>\n",
              "      <td>219</td>\n",
              "      <td>2.04</td>\n",
              "      <td>3</td>\n",
              "      <td>353</td>\n",
              "    </tr>\n",
              "  </tbody>\n",
              "</table>\n",
              "</div>"
            ],
            "text/plain": [
              "     host_id  ... availability_365\n",
              "171   190409  ...              353\n",
              "\n",
              "[1 rows x 12 columns]"
            ]
          },
          "metadata": {
            "tags": []
          },
          "execution_count": 115
        }
      ]
    },
    {
      "cell_type": "code",
      "metadata": {
        "id": "s-A9s-f11RKc"
      },
      "source": [
        "# Top hosts in Staten island\n",
        "top_hosts_Bronx=Bronx_df['host_id'].value_counts()"
      ],
      "execution_count": null,
      "outputs": []
    },
    {
      "cell_type": "code",
      "metadata": {
        "id": "-AiP6iiY1Xp9"
      },
      "source": [
        "# Resetting index\n",
        "top_hosts_Bronx= top_hosts_Bronx.reset_index()"
      ],
      "execution_count": null,
      "outputs": []
    },
    {
      "cell_type": "code",
      "metadata": {
        "id": "aaKMs9FU4Pk2"
      },
      "source": [
        "# Renaming columns\n",
        "top_hosts_Bronx.rename(columns={'index':\"host_id\", 'host_id':'Number of listed apt'},inplace=True)"
      ],
      "execution_count": null,
      "outputs": []
    },
    {
      "cell_type": "code",
      "metadata": {
        "colab": {
          "base_uri": "https://localhost:8080/",
          "height": 345
        },
        "id": "MilOpeR44UJh",
        "outputId": "7af80f14-a919-43f8-b51f-9c84a05b2f13"
      },
      "source": [
        "# Taking top 10 hosts into consideration\n",
        "top_10_hosts_island= top_hosts_island.head(10)\n",
        "top_10_hosts_island"
      ],
      "execution_count": null,
      "outputs": [
        {
          "output_type": "execute_result",
          "data": {
            "text/html": [
              "<div>\n",
              "<style scoped>\n",
              "    .dataframe tbody tr th:only-of-type {\n",
              "        vertical-align: middle;\n",
              "    }\n",
              "\n",
              "    .dataframe tbody tr th {\n",
              "        vertical-align: top;\n",
              "    }\n",
              "\n",
              "    .dataframe thead th {\n",
              "        text-align: right;\n",
              "    }\n",
              "</style>\n",
              "<table border=\"1\" class=\"dataframe\">\n",
              "  <thead>\n",
              "    <tr style=\"text-align: right;\">\n",
              "      <th></th>\n",
              "      <th>host_id</th>\n",
              "      <th>Number of listed apt</th>\n",
              "    </tr>\n",
              "  </thead>\n",
              "  <tbody>\n",
              "    <tr>\n",
              "      <th>0</th>\n",
              "      <td>104812805</td>\n",
              "      <td>8</td>\n",
              "    </tr>\n",
              "    <tr>\n",
              "      <th>1</th>\n",
              "      <td>50756378</td>\n",
              "      <td>7</td>\n",
              "    </tr>\n",
              "    <tr>\n",
              "      <th>2</th>\n",
              "      <td>104927746</td>\n",
              "      <td>7</td>\n",
              "    </tr>\n",
              "    <tr>\n",
              "      <th>3</th>\n",
              "      <td>137999892</td>\n",
              "      <td>7</td>\n",
              "    </tr>\n",
              "    <tr>\n",
              "      <th>4</th>\n",
              "      <td>117492425</td>\n",
              "      <td>6</td>\n",
              "    </tr>\n",
              "    <tr>\n",
              "      <th>5</th>\n",
              "      <td>303939</td>\n",
              "      <td>6</td>\n",
              "    </tr>\n",
              "    <tr>\n",
              "      <th>6</th>\n",
              "      <td>99202586</td>\n",
              "      <td>5</td>\n",
              "    </tr>\n",
              "    <tr>\n",
              "      <th>7</th>\n",
              "      <td>92493393</td>\n",
              "      <td>5</td>\n",
              "    </tr>\n",
              "    <tr>\n",
              "      <th>8</th>\n",
              "      <td>128338539</td>\n",
              "      <td>4</td>\n",
              "    </tr>\n",
              "    <tr>\n",
              "      <th>9</th>\n",
              "      <td>43392243</td>\n",
              "      <td>4</td>\n",
              "    </tr>\n",
              "  </tbody>\n",
              "</table>\n",
              "</div>"
            ],
            "text/plain": [
              "     host_id  Number of listed apt\n",
              "0  104812805                     8\n",
              "1   50756378                     7\n",
              "2  104927746                     7\n",
              "3  137999892                     7\n",
              "4  117492425                     6\n",
              "5     303939                     6\n",
              "6   99202586                     5\n",
              "7   92493393                     5\n",
              "8  128338539                     4\n",
              "9   43392243                     4"
            ]
          },
          "metadata": {
            "tags": []
          },
          "execution_count": 119
        }
      ]
    },
    {
      "cell_type": "markdown",
      "metadata": {
        "id": "fXvHt-1C4c1J"
      },
      "source": [
        "*  Above dataset gives the top 10 hosts of Bronx.\n",
        "--------------------------------------------------------------------------------------------------------------------------------\n",
        "-----------------------------------------------------------------------------------------------------------------------"
      ]
    },
    {
      "cell_type": "markdown",
      "metadata": {
        "id": "HOKCsn3t5DsR"
      },
      "source": [
        "**5.** **Average pricing according to apartment category grouped by neighbourhood group~**"
      ]
    },
    {
      "cell_type": "code",
      "metadata": {
        "colab": {
          "base_uri": "https://localhost:8080/",
          "height": 430
        },
        "id": "Pj3hwG8T4Wf6",
        "outputId": "1806e666-23e2-4c7d-b653-0b9e0874ff29"
      },
      "source": [
        "plots= pd.DataFrame(new_df.groupby(['room_type'])['price'].mean()).plot.bar(color ='orange', figsize=(10,5), edgecolor= 'black')\n",
        "\n",
        "for bar in plots.patches:                                                       # Iterrating over the bars one-by-one  \n",
        "    plots.annotate(format(bar.get_height(), '.2f'), \n",
        "                   (bar.get_x() + bar.get_width() / 2, \n",
        "                    bar.get_height()), ha='center', va='center',                # ha and va stand for the horizontal and vertical alignment\n",
        "                   size=10, xytext=(0, 5),\n",
        "                   textcoords='offset points')\n",
        "    \n",
        "plt.xlabel('Room type', fontsize=15)                                            # setting x-label\n",
        "plt.ylabel('Average price', fontsize=15)                                        # setting y-label\n",
        "plt.title('AVERAGE PRICING FOR DIFFERENT ROOM TYPES', fontsize=20)              # setting title  \n",
        "plt.grid(axis='y',linestyle='--',color='0.75')                                  # seetting grid\n",
        "plt.show()"
      ],
      "execution_count": null,
      "outputs": [
        {
          "output_type": "display_data",
          "data": {
            "image/png": "[encoded data removed]",
            "text/plain": [
              "<Figure size 720x360 with 1 Axes>"
            ]
          },
          "metadata": {
            "tags": [],
            "needs_background": "light"
          }
        }
      ]
    },
    {
      "cell_type": "markdown",
      "metadata": {
        "id": "46z3-vCE6exB"
      },
      "source": [
        "*  From above graph we can conclude that the Entire home/apt has maximum price range compared to Private room and Shared room prices."
      ]
    },
    {
      "cell_type": "markdown",
      "metadata": {
        "id": "e9iSJPv19u3q"
      },
      "source": [
        "*  Average prices of rooms in neighbourhood"
      ]
    },
    {
      "cell_type": "code",
      "metadata": {
        "id": "OFjlMzkY5ltC",
        "colab": {
          "base_uri": "https://localhost:8080/",
          "height": 524
        },
        "outputId": "01bb787a-f603-4fa6-d990-3b0b2ee76405"
      },
      "source": [
        "neigh_grp_price= pd.DataFrame(new_df.groupby(['room_type','neighbourhood_group'])['price'].mean())\n",
        "neigh_grp_price"
      ],
      "execution_count": null,
      "outputs": [
        {
          "output_type": "execute_result",
          "data": {
            "text/html": [
              "<div>\n",
              "<style scoped>\n",
              "    .dataframe tbody tr th:only-of-type {\n",
              "        vertical-align: middle;\n",
              "    }\n",
              "\n",
              "    .dataframe tbody tr th {\n",
              "        vertical-align: top;\n",
              "    }\n",
              "\n",
              "    .dataframe thead th {\n",
              "        text-align: right;\n",
              "    }\n",
              "</style>\n",
              "<table border=\"1\" class=\"dataframe\">\n",
              "  <thead>\n",
              "    <tr style=\"text-align: right;\">\n",
              "      <th></th>\n",
              "      <th></th>\n",
              "      <th>price</th>\n",
              "    </tr>\n",
              "    <tr>\n",
              "      <th>room_type</th>\n",
              "      <th>neighbourhood_group</th>\n",
              "      <th></th>\n",
              "    </tr>\n",
              "  </thead>\n",
              "  <tbody>\n",
              "    <tr>\n",
              "      <th rowspan=\"5\" valign=\"top\">Entire home/apt</th>\n",
              "      <th>Bronx</th>\n",
              "      <td>117.040541</td>\n",
              "    </tr>\n",
              "    <tr>\n",
              "      <th>Brooklyn</th>\n",
              "      <td>153.461983</td>\n",
              "    </tr>\n",
              "    <tr>\n",
              "      <th>Manhattan</th>\n",
              "      <td>191.241776</td>\n",
              "    </tr>\n",
              "    <tr>\n",
              "      <th>Queens</th>\n",
              "      <td>134.513659</td>\n",
              "    </tr>\n",
              "    <tr>\n",
              "      <th>Staten Island</th>\n",
              "      <td>121.089286</td>\n",
              "    </tr>\n",
              "    <tr>\n",
              "      <th rowspan=\"5\" valign=\"top\">Private room</th>\n",
              "      <th>Bronx</th>\n",
              "      <td>60.595679</td>\n",
              "    </tr>\n",
              "    <tr>\n",
              "      <th>Brooklyn</th>\n",
              "      <td>70.654789</td>\n",
              "    </tr>\n",
              "    <tr>\n",
              "      <th>Manhattan</th>\n",
              "      <td>100.657548</td>\n",
              "    </tr>\n",
              "    <tr>\n",
              "      <th>Queens</th>\n",
              "      <td>66.452813</td>\n",
              "    </tr>\n",
              "    <tr>\n",
              "      <th>Staten Island</th>\n",
              "      <td>62.292553</td>\n",
              "    </tr>\n",
              "    <tr>\n",
              "      <th rowspan=\"5\" valign=\"top\">Shared room</th>\n",
              "      <th>Bronx</th>\n",
              "      <td>47.254237</td>\n",
              "    </tr>\n",
              "    <tr>\n",
              "      <th>Brooklyn</th>\n",
              "      <td>48.036496</td>\n",
              "    </tr>\n",
              "    <tr>\n",
              "      <th>Manhattan</th>\n",
              "      <td>78.848936</td>\n",
              "    </tr>\n",
              "    <tr>\n",
              "      <th>Queens</th>\n",
              "      <td>46.989691</td>\n",
              "    </tr>\n",
              "    <tr>\n",
              "      <th>Staten Island</th>\n",
              "      <td>57.444444</td>\n",
              "    </tr>\n",
              "  </tbody>\n",
              "</table>\n",
              "</div>"
            ],
            "text/plain": [
              "                                          price\n",
              "room_type       neighbourhood_group            \n",
              "Entire home/apt Bronx                117.040541\n",
              "                Brooklyn             153.461983\n",
              "                Manhattan            191.241776\n",
              "                Queens               134.513659\n",
              "                Staten Island        121.089286\n",
              "Private room    Bronx                 60.595679\n",
              "                Brooklyn              70.654789\n",
              "                Manhattan            100.657548\n",
              "                Queens                66.452813\n",
              "                Staten Island         62.292553\n",
              "Shared room     Bronx                 47.254237\n",
              "                Brooklyn              48.036496\n",
              "                Manhattan             78.848936\n",
              "                Queens                46.989691\n",
              "                Staten Island         57.444444"
            ]
          },
          "metadata": {
            "tags": []
          },
          "execution_count": 121
        }
      ]
    },
    {
      "cell_type": "code",
      "metadata": {
        "colab": {
          "base_uri": "https://localhost:8080/",
          "height": 510
        },
        "id": "sim6Qu_C-Muh",
        "outputId": "58c84c25-0c80-4b3b-a65f-c300743bea0b"
      },
      "source": [
        "plots=neigh_grp_price.plot.bar(color ='orange', figsize=(10,5), edgecolor= 'black')\n",
        "\n",
        "for bar in plots.patches:                                                       # Iterrating over the bars one-by-one\n",
        "    plots.annotate(format(bar.get_height(), '.2f'), \n",
        "                   (bar.get_x() + bar.get_width() / 2, \n",
        "                    bar.get_height()), ha='center', va='center',                # ha and va stand for the horizontal and vertical alignment\n",
        "                   size=10, xytext=(0, 5),\n",
        "                   textcoords='offset points')\n",
        "    \n",
        "plt.xlabel('Neighbourhood Room types', fontsize=15)                             # setting x-label\n",
        "plt.ylabel('Average price', fontsize=15)                                        # setting y-label\n",
        "plt.title('Average prices of rooms in Neighbourhood', fontsize=20)              # setting title\n",
        "plt.grid(axis='y',linestyle='--',color='0.75')                                  # setting grid\n",
        "plt.show()"
      ],
      "execution_count": null,
      "outputs": [
        {
          "output_type": "display_data",
          "data": {
            "image/png": "[encoded data removed]",
            "text/plain": [
              "<Figure size 720x360 with 1 Axes>"
            ]
          },
          "metadata": {
            "tags": [],
            "needs_background": "light"
          }
        }
      ]
    },
    {
      "cell_type": "markdown",
      "metadata": {
        "id": "PAxFs4En-3hU"
      },
      "source": [
        "* From above plot we can conclude that the average price of Entire home/apartment in Manhattan is much higher than any other neighbourhood."
      ]
    },
    {
      "cell_type": "markdown",
      "metadata": {
        "id": "mfBnsTWZC3OL"
      },
      "source": [
        "**6.** **Preferable average stay time according to room type**"
      ]
    },
    {
      "cell_type": "code",
      "metadata": {
        "id": "YHmtFeG4-XsA"
      },
      "source": [
        "avg_stay=pd.DataFrame(new_df.groupby(['room_type'])['minimum_nights'].mean().reset_index())"
      ],
      "execution_count": null,
      "outputs": []
    },
    {
      "cell_type": "code",
      "metadata": {
        "id": "K-j6c_sIDTet",
        "colab": {
          "base_uri": "https://localhost:8080/",
          "height": 430
        },
        "outputId": "4bfd36c8-33dc-4c14-e4a1-5c664c0c2627"
      },
      "source": [
        "plots=avg_stay.plot.bar(color ='orange', figsize=(10,5), edgecolor= 'black',x='room_type')\n",
        "for bar in plots.patches:                                                       # Iterrating over the bars one-by-one\n",
        "    plots.annotate(format(bar.get_height(), '.2f'), \n",
        "                   (bar.get_x() + bar.get_width() / 2, \n",
        "                    bar.get_height()), ha='center', va='center',                # ha and va stand for the horizontal and vertical alignment\n",
        "                   size=10, xytext=(0, 5),\n",
        "                   textcoords='offset points')\n",
        "  \n",
        "plt.xlabel('Neighbourhood Room types', fontsize=15)                             # setting x-label\n",
        "plt.ylabel('Stayed Nights', fontsize=15)                                        # setting y-label\n",
        "plt.title('Average Stay Time according to room type', fontsize=20)              # setting title\n",
        "plt.grid(axis='y',linestyle='--',color='0.75')                                  # setting grid\n",
        "plt.show()"
      ],
      "execution_count": null,
      "outputs": [
        {
          "output_type": "display_data",
          "data": {
            "image/png": "[encoded data removed]",
            "text/plain": [
              "<Figure size 720x360 with 1 Axes>"
            ]
          },
          "metadata": {
            "tags": [],
            "needs_background": "light"
          }
        }
      ]
    },
    {
      "cell_type": "markdown",
      "metadata": {
        "id": "G3lAmfuTjZiJ"
      },
      "source": [
        "**6.**  **Most number of reviews among top hosts.**"
      ]
    },
    {
      "cell_type": "code",
      "metadata": {
        "id": "mMbz9lVbgi8z"
      },
      "source": [
        "# For considering reviews we have taken some columns like 'price', 'Number_of_reviews', 'host_id' in a seperate dataframe   \n",
        "reviews=new_df[['host_id','number_of_reviews',\"price\"]]"
      ],
      "execution_count": null,
      "outputs": []
    },
    {
      "cell_type": "code",
      "metadata": {
        "id": "jC_7P-CB5jNX"
      },
      "source": [
        "# Sorting the dataframe by the number of reviews in Descending order\n",
        "reviews.sort_values('number_of_reviews',ascending=False,inplace=True)"
      ],
      "execution_count": null,
      "outputs": []
    },
    {
      "cell_type": "code",
      "metadata": {
        "colab": {
          "base_uri": "https://localhost:8080/",
          "height": 345
        },
        "id": "jTzvFXHOmiz1",
        "outputId": "811173f6-4862-4f07-e709-2e16c6cbe0f6"
      },
      "source": [
        "# Taking top 10 reivews into consideration\n",
        "top_10_reviews=reviews.head(10)\n",
        "top_10_reviews"
      ],
      "execution_count": null,
      "outputs": [
        {
          "output_type": "execute_result",
          "data": {
            "text/html": [
              "<div>\n",
              "<style scoped>\n",
              "    .dataframe tbody tr th:only-of-type {\n",
              "        vertical-align: middle;\n",
              "    }\n",
              "\n",
              "    .dataframe tbody tr th {\n",
              "        vertical-align: top;\n",
              "    }\n",
              "\n",
              "    .dataframe thead th {\n",
              "        text-align: right;\n",
              "    }\n",
              "</style>\n",
              "<table border=\"1\" class=\"dataframe\">\n",
              "  <thead>\n",
              "    <tr style=\"text-align: right;\">\n",
              "      <th></th>\n",
              "      <th>host_id</th>\n",
              "      <th>number_of_reviews</th>\n",
              "      <th>price</th>\n",
              "    </tr>\n",
              "  </thead>\n",
              "  <tbody>\n",
              "    <tr>\n",
              "      <th>11759</th>\n",
              "      <td>47621202</td>\n",
              "      <td>629</td>\n",
              "      <td>47</td>\n",
              "    </tr>\n",
              "    <tr>\n",
              "      <th>2031</th>\n",
              "      <td>4734398</td>\n",
              "      <td>607</td>\n",
              "      <td>49</td>\n",
              "    </tr>\n",
              "    <tr>\n",
              "      <th>2030</th>\n",
              "      <td>4734398</td>\n",
              "      <td>597</td>\n",
              "      <td>49</td>\n",
              "    </tr>\n",
              "    <tr>\n",
              "      <th>2015</th>\n",
              "      <td>4734398</td>\n",
              "      <td>594</td>\n",
              "      <td>49</td>\n",
              "    </tr>\n",
              "    <tr>\n",
              "      <th>13495</th>\n",
              "      <td>47621202</td>\n",
              "      <td>576</td>\n",
              "      <td>47</td>\n",
              "    </tr>\n",
              "    <tr>\n",
              "      <th>10623</th>\n",
              "      <td>37312959</td>\n",
              "      <td>543</td>\n",
              "      <td>46</td>\n",
              "    </tr>\n",
              "    <tr>\n",
              "      <th>1879</th>\n",
              "      <td>2369681</td>\n",
              "      <td>540</td>\n",
              "      <td>99</td>\n",
              "    </tr>\n",
              "    <tr>\n",
              "      <th>20403</th>\n",
              "      <td>26432133</td>\n",
              "      <td>510</td>\n",
              "      <td>48</td>\n",
              "    </tr>\n",
              "    <tr>\n",
              "      <th>4870</th>\n",
              "      <td>12949460</td>\n",
              "      <td>488</td>\n",
              "      <td>160</td>\n",
              "    </tr>\n",
              "    <tr>\n",
              "      <th>471</th>\n",
              "      <td>792159</td>\n",
              "      <td>480</td>\n",
              "      <td>60</td>\n",
              "    </tr>\n",
              "  </tbody>\n",
              "</table>\n",
              "</div>"
            ],
            "text/plain": [
              "        host_id  number_of_reviews  price\n",
              "11759  47621202                629     47\n",
              "2031    4734398                607     49\n",
              "2030    4734398                597     49\n",
              "2015    4734398                594     49\n",
              "13495  47621202                576     47\n",
              "10623  37312959                543     46\n",
              "1879    2369681                540     99\n",
              "20403  26432133                510     48\n",
              "4870   12949460                488    160\n",
              "471      792159                480     60"
            ]
          },
          "metadata": {
            "tags": []
          },
          "execution_count": 127
        }
      ]
    },
    {
      "cell_type": "code",
      "metadata": {
        "colab": {
          "base_uri": "https://localhost:8080/",
          "height": 564
        },
        "id": "EJyecNvU7pjp",
        "outputId": "c4ef732d-9301-41f5-94f3-536926a945a6"
      },
      "source": [
        "plots= top_10_reviews.groupby(['host_id'])[['number_of_reviews','price']].mean().plot.bar(\n",
        "    width=0.7,                                                                  \n",
        "    linewidth=1,\n",
        "    edgecolor='black',\n",
        "    figsize = (15,8),\n",
        "    fontsize = 10,)\n",
        "\n",
        "for bar in plots.patches:                                                       # Iterrating over the bars one-by-one to anotate the bars\n",
        "    plots.annotate(format(bar.get_height(), '.2f'), \n",
        "                   (bar.get_x() + bar.get_width() / 2, \n",
        "                    bar.get_height()), ha='center', va='center',                # ha and va stand for the horizontal and vertical alignment\n",
        "                   size=10, xytext=(0, 5),\n",
        "                   textcoords='offset points')\n",
        "\n",
        "plt.xlabel('Host ID', fontsize=15)                                              # setting x-label\n",
        "plt.ylabel('Prices and reviews of properties', fontsize=15)                     # setting y-label\n",
        "plt.title('Top 10 hosts with Price as sorted by their reviews', fontsize=20)    # setting title\n",
        "plt.grid(axis='y',linestyle='--',color='0.75')                                  # setting grid\n",
        "plt.show()"
      ],
      "execution_count": null,
      "outputs": [
        {
          "output_type": "display_data",
          "data": {
            "image/png": "[encoded data removed]",
            "text/plain": [
              "<Figure size 1080x576 with 1 Axes>"
            ]
          },
          "metadata": {
            "tags": [],
            "needs_background": "light"
          }
        }
      ]
    },
    {
      "cell_type": "markdown",
      "metadata": {
        "id": "86_Fs71xKEg9"
      },
      "source": [
        "*  From above plot we can conclude that the host id having maximum price of property have less number of reviews and the host id with minimum price have more number reviews.  "
      ]
    },
    {
      "cell_type": "code",
      "metadata": {
        "id": "0lBmUowy8lVa"
      },
      "source": [
        ""
      ],
      "execution_count": null,
      "outputs": []
    },
    {
      "cell_type": "markdown",
      "metadata": {
        "id": "peT52uGYLAPh"
      },
      "source": [
        "# **Conclusion**\n",
        "\n",
        "From the above data analysis project, we have analyzed some of the most popular trends given the Airbnb's data on listings in NYC\n",
        "\n",
        "We can conclude:-\n",
        "\n",
        "*   Manhattan and Brooklyn are the prime locations with highest number of rooms.\n",
        "\n",
        "*   Manhattan is the most expensive place to live.\n",
        "\n",
        "*   In Manhattan people perfer to rent entire home and apartment.\n",
        "\n",
        "*   Staten island is the least popular place amoung them.\n",
        "\n",
        "*   Most properties have price in the range 0-150.\n",
        "\n",
        "*   Prices very wildly based on property and room types.\n",
        "\n",
        "*  Majority of Hosts listed their entire home property. \n",
        "\n",
        "*   People prefer to list there properties for minimun number of nights less than a week .\n",
        "\n",
        "*   The properties which are expensive tend to attract less reviews, which means people less likely to rent expensive rooms."
      ]
    },
    {
      "cell_type": "code",
      "metadata": {
        "id": "GTwSikBgLCbS"
      },
      "source": [
        ""
      ],
      "execution_count": null,
      "outputs": []
    }
  ]
}